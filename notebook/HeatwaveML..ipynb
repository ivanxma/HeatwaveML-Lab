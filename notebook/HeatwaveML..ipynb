﻿{
  "metadata": {
    "name": "HeatwaveML",
    "kernelspec": {
      "language": "scala",
      "name": "spark2-scala"
    },
    "language_info": {
      "codemirror_mode": "text/x-scala",
      "file_extension": ".scala",
      "mimetype": "text/x-scala",
      "name": "scala",
      "pygments_lexer": "scala"
    }
  },
  "nbformat": 4,
  "nbformat_minor": 2,
  "cells": [
    {
      "cell_type": "code",
      "execution_count": 0,
      "metadata": {
        "autoscroll": "auto"
      },
      "outputs": [],
      "source": "use airflight;\nselect * from airlines_train limit 10;\nselect count(*) from airlines_train;"
    },
    {
      "cell_type": "code",
      "execution_count": 1,
      "metadata": {
        "autoscroll": "auto"
      },
      "outputs": [],
      "source": "select @modelname:\u003d\u0027flightmodel\u0027;\ncall sys.ML_TRAIN(\u0027airflight.airlines_train\u0027, \u0027Delay\u0027,JSON_OBJECT(\u0027task\u0027, \u0027classification\u0027),@modelname);"
    },
    {
      "cell_type": "code",
      "execution_count": 2,
      "metadata": {
        "autoscroll": "auto"
      },
      "outputs": [],
      "source": "select @modelname:\u003d\u0027flightmodel\u0027;\ncall sys.ML_MODEL_LOAD(@modelname, null);"
    },
    {
      "cell_type": "code",
      "execution_count": 3,
      "metadata": {
        "autoscroll": "auto"
      },
      "outputs": [],
      "source": "select @modelname:\u003d\u0027flightmodel\u0027;\nselect * from ML_SCHEMA_admin.MODEL_CATALOG where model_handle\u003d@modelname;\nselect * from airlines_test;"
    },
    {
      "cell_type": "code",
      "execution_count": 4,
      "metadata": {
        "autoscroll": "auto"
      },
      "outputs": [],
      "source": "select @modelname:\u003d\u0027flightmodel\u0027;\nselect @myrow:\u003dJSON_OBJECT(\"Airline\", \"DL\", \"Flight\", \"1002\", \"AirportFrom\", \"SLC\", \"AirportTo\", \"JFK\", \"DayOfWeek\", \"5\", \"Time\", \"1425\", \"Length\", \"264\"  );\nselect @myprediction:\u003dsys.ML_PREDICT_ROW( @myrow, @modelname,null);"
    },
    {
      "cell_type": "code",
      "execution_count": 5,
      "metadata": {
        "autoscroll": "auto"
      },
      "outputs": [],
      "source": "select sys.ML_EXPLAIN_ROW(@myrow,\n@modelname,JSON_OBJECT(\u0027prediction_explainer\u0027, \u0027permutation_importance\u0027))"
    },
    {
      "cell_type": "code",
      "execution_count": 6,
      "metadata": {
        "autoscroll": "auto"
      },
      "outputs": [],
      "source": "CALL sys.ML_SCORE(\u0027airflight.airlines_test\u0027, \u0027delay\u0027, @modelname, \u0027balanced_accuracy\u0027, @score, null);\nselect @score;"
    }
  ]
}